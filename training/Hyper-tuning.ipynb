{
 "cells": [
  {
   "cell_type": "code",
   "execution_count": 20,
   "id": "02aeb62f-f99b-4c4a-b9c2-8e7e7402bc28",
   "metadata": {},
   "outputs": [
    {
     "name": "stderr",
     "output_type": "stream",
     "text": [
      "C:\\Users\\Dell\\anaconda3\\envs\\car_damage_detection\\Lib\\site-packages\\tqdm\\auto.py:21: TqdmWarning: IProgress not found. Please update jupyter and ipywidgets. See https://ipywidgets.readthedocs.io/en/stable/user_install.html\n",
      "  from .autonotebook import tqdm as notebook_tqdm\n"
     ]
    }
   ],
   "source": [
    "import os\n",
    "from torchvision import datasets, transforms\n",
    "from torch.utils.data import DataLoader\n",
    "import torch\n",
    "import torch.nn as nn\n",
    "import torch.optim as optim\n",
    "import torch.nn.functional as F\n",
    "import time\n",
    "import torchvision.models as models\n",
    "from matplotlib import pyplot as plt\n",
    "import numpy\n",
    "import optuna as optuna"
   ]
  },
  {
   "cell_type": "code",
   "execution_count": 2,
   "id": "5360d307-d413-4385-bffb-a8e01b4bb320",
   "metadata": {},
   "outputs": [
    {
     "data": {
      "text/plain": [
       "device(type='cpu')"
      ]
     },
     "execution_count": 2,
     "metadata": {},
     "output_type": "execute_result"
    }
   ],
   "source": [
    "device = torch.device(\"cuda\" if torch.cuda.is_available() else \"cpu\")\n",
    "device"
   ]
  },
  {
   "cell_type": "markdown",
   "id": "c87ad830-ea59-452e-b050-3ad79603c6c8",
   "metadata": {},
   "source": [
    "### Load Data"
   ]
  },
  {
   "cell_type": "code",
   "execution_count": 3,
   "id": "0cbbeea8-90ac-40bb-8671-0a5b8c17a94c",
   "metadata": {},
   "outputs": [],
   "source": [
    "image_transform = transforms.Compose([\n",
    "    transforms.RandomHorizontalFlip(),\n",
    "    transforms.RandomRotation(10),\n",
    "    transforms.ColorJitter(brightness=0.2, contrast=0.2),\n",
    "    transforms.Resize((224,224)),\n",
    "    transforms.ToTensor(),\n",
    "    transforms.Normalize(mean = [0.485,0.456,0.406],std =[0.229,0.224,0.225], )\n",
    "])"
   ]
  },
  {
   "cell_type": "code",
   "execution_count": 4,
   "id": "f10879ad-413e-4e7c-9c34-e3e9a8680bf5",
   "metadata": {},
   "outputs": [],
   "source": [
    "dataset_path = \"./dataset\"\n",
    "dataset = datasets.ImageFolder(root = dataset_path, transform=image_transform)"
   ]
  },
  {
   "cell_type": "code",
   "execution_count": 5,
   "id": "8c0175bf-5110-4364-997e-413e7be3d4b5",
   "metadata": {},
   "outputs": [
    {
     "data": {
      "text/plain": [
       "2301"
      ]
     },
     "execution_count": 5,
     "metadata": {},
     "output_type": "execute_result"
    }
   ],
   "source": [
    "len(dataset)"
   ]
  },
  {
   "cell_type": "code",
   "execution_count": 6,
   "id": "c94fbfa3-7632-497a-823d-83579f52f906",
   "metadata": {},
   "outputs": [
    {
     "data": {
      "text/plain": [
       "['F_Breakage', 'F_Crushed', 'F_Normal', 'R_Breakage', 'R_Crushed', 'R_Normal']"
      ]
     },
     "execution_count": 6,
     "metadata": {},
     "output_type": "execute_result"
    }
   ],
   "source": [
    "dataset.classes"
   ]
  },
  {
   "cell_type": "code",
   "execution_count": 7,
   "id": "37371bc1-cdcc-49e0-a1ec-c73f90a96b0a",
   "metadata": {},
   "outputs": [
    {
     "data": {
      "text/plain": [
       "6"
      ]
     },
     "execution_count": 7,
     "metadata": {},
     "output_type": "execute_result"
    }
   ],
   "source": [
    "num_classes = len(dataset.classes)\n",
    "num_classes"
   ]
  },
  {
   "cell_type": "code",
   "execution_count": 8,
   "id": "bd3dc9a1-b9cd-4e2b-ad07-3c971acb7ead",
   "metadata": {},
   "outputs": [
    {
     "data": {
      "text/plain": [
       "(1725, 576)"
      ]
     },
     "execution_count": 8,
     "metadata": {},
     "output_type": "execute_result"
    }
   ],
   "source": [
    "train_size = int(0.75 * len(dataset))\n",
    "val_size = len(dataset) - train_size\n",
    "\n",
    "train_size, val_size"
   ]
  },
  {
   "cell_type": "code",
   "execution_count": 9,
   "id": "4f5df8e2-09cb-4832-89d9-a12b1369908d",
   "metadata": {},
   "outputs": [],
   "source": [
    "from torch.utils.data import random_split\n",
    "\n",
    "train_dataset, val_dataset = random_split(dataset, [train_size, val_size])"
   ]
  },
  {
   "cell_type": "code",
   "execution_count": 10,
   "id": "6f8bc1e8-f655-42b1-9456-9d714ddcf4b4",
   "metadata": {},
   "outputs": [],
   "source": [
    "train_loader = DataLoader(train_dataset, batch_size = 32, shuffle=True)\n",
    "val_loader = DataLoader(val_dataset, batch_size = 32, shuffle=True)"
   ]
  },
  {
   "cell_type": "code",
   "execution_count": 11,
   "id": "1f75f5cd-43c1-477b-a0ae-e8bcc3a734a5",
   "metadata": {},
   "outputs": [
    {
     "name": "stdout",
     "output_type": "stream",
     "text": [
      "torch.Size([32, 3, 224, 224])\n",
      "torch.Size([32])\n"
     ]
    }
   ],
   "source": [
    "for images, labels in train_loader:\n",
    "    print(images.shape)\n",
    "    print(labels.shape)\n",
    "    break"
   ]
  },
  {
   "cell_type": "code",
   "execution_count": 12,
   "id": "ab3fad86-f63c-4216-b80f-115dd0fbb828",
   "metadata": {},
   "outputs": [
    {
     "data": {
      "text/plain": [
       "torch.Size([3, 224, 224])"
      ]
     },
     "execution_count": 12,
     "metadata": {},
     "output_type": "execute_result"
    }
   ],
   "source": [
    "images[0].shape"
   ]
  },
  {
   "cell_type": "code",
   "execution_count": 13,
   "id": "efa29189-0672-48f7-9ee0-f403b134218e",
   "metadata": {},
   "outputs": [
    {
     "data": {
      "text/plain": [
       "tensor(3)"
      ]
     },
     "execution_count": 13,
     "metadata": {},
     "output_type": "execute_result"
    }
   ],
   "source": [
    "labels[0]"
   ]
  },
  {
   "cell_type": "code",
   "execution_count": 14,
   "id": "710c0301-875a-45ca-aa4f-1f96c1fd7006",
   "metadata": {},
   "outputs": [
    {
     "data": {
      "text/plain": [
       "torch.Size([224, 224, 3])"
      ]
     },
     "execution_count": 14,
     "metadata": {},
     "output_type": "execute_result"
    }
   ],
   "source": [
    "images[0].permute(1,2,0).shape"
   ]
  },
  {
   "cell_type": "code",
   "execution_count": 15,
   "id": "3cef0339-dab1-428b-9141-8b0f1901a23f",
   "metadata": {},
   "outputs": [],
   "source": [
    "# plt.imshow(images[14].permute(1,2,0))\n",
    "# plt.show()"
   ]
  },
  {
   "cell_type": "code",
   "execution_count": 16,
   "id": "f31cfd35-3a96-4946-9827-67f49173ed2f",
   "metadata": {},
   "outputs": [
    {
     "data": {
      "text/plain": [
       "tensor(5)"
      ]
     },
     "execution_count": 16,
     "metadata": {},
     "output_type": "execute_result"
    }
   ],
   "source": [
    "labels[14]"
   ]
  },
  {
   "cell_type": "markdown",
   "id": "b697e244-654e-4411-8cfa-79c00bdd9e5e",
   "metadata": {},
   "source": [
    "### Model training and hyperparameter tuning"
   ]
  },
  {
   "cell_type": "code",
   "execution_count": 17,
   "id": "349cb1a4-e247-4849-b5ed-0c7ed171bc12",
   "metadata": {},
   "outputs": [],
   "source": [
    "class CarClassifierResNet(nn.Module):\n",
    "    def __init__(self, num_classes, dropout_rate = 0.5):\n",
    "        super().__init__()\n",
    "        \n",
    "        self.model = models.resnet50(weights=\"DEFAULT\")\n",
    "\n",
    "        # freeze all layers except the final fully connected layers\n",
    "        for param in self.model.parameters():\n",
    "            param.requires_grad = False\n",
    "\n",
    "        # unfreeze layer4 and fc layers\n",
    "        for param in self.model.layer4.parameters():\n",
    "            param.requires_grad = True\n",
    "\n",
    "        # replace the fully connected layer\n",
    "        self.model.classifier = nn.Sequential(\n",
    "            nn.Dropout(dropout_rate),\n",
    "            nn.Linear(self.model.fc.in_features , num_classes)\n",
    "            )\n",
    "\n",
    "    def forward(self,x):\n",
    "        x = self.model(x)\n",
    "        return x "
   ]
  },
  {
   "cell_type": "code",
   "execution_count": 24,
   "id": "1c31d449-5804-48e6-b252-08c16c4c8f80",
   "metadata": {},
   "outputs": [],
   "source": [
    "def objective(trial):\n",
    "\n",
    "    # suggest values for hyperparameter tuning\n",
    "\n",
    "    lr = trial.suggest_float(\"lr\", 1e-5, 1e-2, log = True)\n",
    "    dropout_rate = trial.suggest_float(\"dropout_rate\", 0.2,0.7)\n",
    "\n",
    "    # load the model\n",
    "    model = CarClassifierResNet(num_classes = num_classes, dropout_rate=dropout_rate).to(device)\n",
    "\n",
    "    # define the loss function and optimizer\n",
    "    criterion = nn.CrossEntropyLoss()\n",
    "    optimizer = optim.Adam(filter(lambda p : p.requires_grad, model.parameters()), lr = lr)\n",
    "\n",
    "    # training loop\n",
    "    epochs = 3\n",
    "    start = time.time()\n",
    "\n",
    "    for epoch in range(epochs):\n",
    "        model.train()\n",
    "        running_loss = 0.0\n",
    "\n",
    "        for batch_num, (images, labels) in enumerate(train_loader):\n",
    "            images, labels = images.to(device), labels.to(device)\n",
    "\n",
    "            optimizer.zero_grad()\n",
    "\n",
    "            outputs = model(images)\n",
    "\n",
    "            loss = criterion(outputs,labels)\n",
    "\n",
    "            loss.backward()\n",
    "\n",
    "            optimizer.step()\n",
    "\n",
    "            running_loss += loss.item() * images.size(0)\n",
    "\n",
    "        epoch_loss = running_loss / len(train_loader.dataset)\n",
    "\n",
    "        # Validation loop\n",
    "        model.eval()\n",
    "        correct = 0\n",
    "        total = 0 \n",
    "        with torch.no_grad():\n",
    "            for images,labels in val_loader:\n",
    "                mages, labels = images.to(device), labels.to(device)\n",
    "                outputs = model(images)\n",
    "                _, predicted = torch.max(outputs.data,1)\n",
    "                total += labels.size(0)\n",
    "                correct += (predicted == labels). sum().item()\n",
    "\n",
    "        accuracy = 100 * correct / total\n",
    "\n",
    "        # report intermediate result to optuna\n",
    "        trial.report(accuracy, epoch)\n",
    "\n",
    "        # Handle pruning\n",
    "\n",
    "        if trial.should_prune():\n",
    "            raise optuna.exceptions.TrialPruned()\n",
    "\n",
    "    end = time.time()\n",
    "    print(f\"Execution time : {end - start} seconds\")\n",
    "\n",
    "    return accuracy\n",
    "    "
   ]
  },
  {
   "cell_type": "code",
   "execution_count": 25,
   "id": "d4f6c998-b78f-4016-8b3a-d78dbe45bf76",
   "metadata": {},
   "outputs": [
    {
     "name": "stderr",
     "output_type": "stream",
     "text": [
      "[I 2025-08-03 10:39:22,648] A new study created in memory with name: no-name-c9775336-b0ec-4ef1-86b5-b2935f8f61df\n",
      "[I 2025-08-03 11:14:59,491] Trial 0 finished with value: 46.18055555555556 and parameters: {'lr': 1.8535370216250005e-05, 'dropout_rate': 0.6175570776995238}. Best is trial 0 with value: 46.18055555555556.\n"
     ]
    },
    {
     "name": "stdout",
     "output_type": "stream",
     "text": [
      "Execution time : 2135.529582977295 seconds\n"
     ]
    },
    {
     "name": "stderr",
     "output_type": "stream",
     "text": [
      "[I 2025-08-03 11:42:44,744] Trial 1 finished with value: 36.111111111111114 and parameters: {'lr': 1.5004231446747878e-05, 'dropout_rate': 0.5072647229197326}. Best is trial 0 with value: 46.18055555555556.\n"
     ]
    },
    {
     "name": "stdout",
     "output_type": "stream",
     "text": [
      "Execution time : 1663.5626606941223 seconds\n"
     ]
    },
    {
     "name": "stderr",
     "output_type": "stream",
     "text": [
      "[I 2025-08-03 12:08:17,874] Trial 2 finished with value: 80.55555555555556 and parameters: {'lr': 0.000570610825826787, 'dropout_rate': 0.5560482291947226}. Best is trial 2 with value: 80.55555555555556.\n"
     ]
    },
    {
     "name": "stdout",
     "output_type": "stream",
     "text": [
      "Execution time : 1532.0963134765625 seconds\n"
     ]
    },
    {
     "name": "stderr",
     "output_type": "stream",
     "text": [
      "[I 2025-08-03 12:33:55,669] Trial 3 finished with value: 63.020833333333336 and parameters: {'lr': 3.141667295043396e-05, 'dropout_rate': 0.2388362442115235}. Best is trial 2 with value: 80.55555555555556.\n"
     ]
    },
    {
     "name": "stdout",
     "output_type": "stream",
     "text": [
      "Execution time : 1537.0468623638153 seconds\n"
     ]
    },
    {
     "name": "stderr",
     "output_type": "stream",
     "text": [
      "[I 2025-08-03 12:59:40,796] Trial 4 finished with value: 76.5625 and parameters: {'lr': 0.00012302656054480796, 'dropout_rate': 0.41937903396178955}. Best is trial 2 with value: 80.55555555555556.\n"
     ]
    },
    {
     "name": "stdout",
     "output_type": "stream",
     "text": [
      "Execution time : 1543.0986828804016 seconds\n"
     ]
    },
    {
     "name": "stderr",
     "output_type": "stream",
     "text": [
      "[I 2025-08-03 13:09:33,960] Trial 5 pruned. \n",
      "[I 2025-08-03 13:18:45,686] Trial 6 pruned. \n",
      "[I 2025-08-03 13:41:52,030] Trial 7 finished with value: 78.47222222222223 and parameters: {'lr': 0.004964791453501179, 'dropout_rate': 0.5469584431690219}. Best is trial 2 with value: 80.55555555555556.\n"
     ]
    },
    {
     "name": "stdout",
     "output_type": "stream",
     "text": [
      "Execution time : 1385.2025265693665 seconds\n"
     ]
    },
    {
     "name": "stderr",
     "output_type": "stream",
     "text": [
      "[I 2025-08-03 14:01:36,013] Trial 8 finished with value: 75.52083333333333 and parameters: {'lr': 0.0001503420512753802, 'dropout_rate': 0.451961295891878}. Best is trial 2 with value: 80.55555555555556.\n"
     ]
    },
    {
     "name": "stdout",
     "output_type": "stream",
     "text": [
      "Execution time : 1183.394749879837 seconds\n"
     ]
    },
    {
     "name": "stderr",
     "output_type": "stream",
     "text": [
      "[I 2025-08-03 14:08:06,476] Trial 9 pruned. \n",
      "[I 2025-08-03 14:27:53,239] Trial 10 finished with value: 76.5625 and parameters: {'lr': 0.0018342683429186531, 'dropout_rate': 0.6979088580647724}. Best is trial 2 with value: 80.55555555555556.\n"
     ]
    },
    {
     "name": "stdout",
     "output_type": "stream",
     "text": [
      "Execution time : 1186.1743383407593 seconds\n"
     ]
    },
    {
     "name": "stderr",
     "output_type": "stream",
     "text": [
      "[I 2025-08-03 14:47:39,276] Trial 11 finished with value: 82.29166666666667 and parameters: {'lr': 0.007609280382829907, 'dropout_rate': 0.5302808827244218}. Best is trial 11 with value: 82.29166666666667.\n"
     ]
    },
    {
     "name": "stdout",
     "output_type": "stream",
     "text": [
      "Execution time : 1185.490550518036 seconds\n"
     ]
    },
    {
     "name": "stderr",
     "output_type": "stream",
     "text": [
      "[I 2025-08-03 14:54:09,268] Trial 12 pruned. \n",
      "[I 2025-08-03 15:14:08,477] Trial 13 finished with value: 81.25 and parameters: {'lr': 0.009270814900525432, 'dropout_rate': 0.56256113867564}. Best is trial 11 with value: 82.29166666666667.\n"
     ]
    },
    {
     "name": "stdout",
     "output_type": "stream",
     "text": [
      "Execution time : 1198.6858332157135 seconds\n"
     ]
    },
    {
     "name": "stderr",
     "output_type": "stream",
     "text": [
      "[I 2025-08-03 15:27:33,654] Trial 14 pruned. \n",
      "[I 2025-08-03 15:47:42,481] Trial 15 finished with value: 80.72916666666667 and parameters: {'lr': 0.0030170154912768613, 'dropout_rate': 0.4885893371886448}. Best is trial 11 with value: 82.29166666666667.\n"
     ]
    },
    {
     "name": "stdout",
     "output_type": "stream",
     "text": [
      "Execution time : 1208.0942821502686 seconds\n"
     ]
    },
    {
     "name": "stderr",
     "output_type": "stream",
     "text": [
      "[I 2025-08-03 16:01:02,775] Trial 16 pruned. \n",
      "[I 2025-08-03 16:14:19,166] Trial 17 pruned. \n",
      "[I 2025-08-03 16:27:36,426] Trial 18 pruned. \n",
      "[I 2025-08-03 16:34:18,399] Trial 19 pruned. \n"
     ]
    }
   ],
   "source": [
    "study = optuna.create_study(direction = \"maximize\")\n",
    "study.optimize(objective, n_trials = 20)"
   ]
  },
  {
   "cell_type": "code",
   "execution_count": 26,
   "id": "db79bebd-50ba-410a-b6f7-570e6dac1c45",
   "metadata": {},
   "outputs": [
    {
     "name": "stdout",
     "output_type": "stream",
     "text": [
      "Best trial value: 82.29166666666667\n",
      "Best hyperparameters: {'lr': 0.007609280382829907, 'dropout_rate': 0.5302808827244218}\n"
     ]
    }
   ],
   "source": [
    "  # Assuming 'study' is your Optuna study object after optimization\n",
    "best_trial = study.best_trial\n",
    "print(f\"Best trial value: {best_trial.value}\")\n",
    "print(f\"Best hyperparameters: {best_trial.params}\")"
   ]
  },
  {
   "cell_type": "code",
   "execution_count": null,
   "id": "92b3af88-e693-4caf-9fc7-cdc318d8ae92",
   "metadata": {},
   "outputs": [],
   "source": []
  },
  {
   "cell_type": "code",
   "execution_count": null,
   "id": "8c0e61d1-6ec9-42b9-8f85-7ea70c93285b",
   "metadata": {},
   "outputs": [],
   "source": []
  }
 ],
 "metadata": {
  "kernelspec": {
   "display_name": "Python 3 (ipykernel)",
   "language": "python",
   "name": "python3"
  },
  "language_info": {
   "codemirror_mode": {
    "name": "ipython",
    "version": 3
   },
   "file_extension": ".py",
   "mimetype": "text/x-python",
   "name": "python",
   "nbconvert_exporter": "python",
   "pygments_lexer": "ipython3",
   "version": "3.11.13"
  }
 },
 "nbformat": 4,
 "nbformat_minor": 5
}
